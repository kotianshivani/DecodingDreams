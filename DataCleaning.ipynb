{
 "cells": [
  {
   "cell_type": "code",
   "execution_count": 38,
   "metadata": {},
   "outputs": [
    {
     "name": "stdout",
     "output_type": "stream",
     "text": [
      "Defaulting to user installation because normal site-packages is not writeable\n",
      "Requirement already satisfied: pandas in /Users/eliasschablowski/Library/Python/3.9/lib/python/site-packages (2.2.1)\n",
      "Requirement already satisfied: tzdata>=2022.7 in /Users/eliasschablowski/Library/Python/3.9/lib/python/site-packages (from pandas) (2024.1)\n",
      "Requirement already satisfied: numpy<2,>=1.22.4 in /Users/eliasschablowski/Library/Python/3.9/lib/python/site-packages (from pandas) (1.26.4)\n",
      "Requirement already satisfied: python-dateutil>=2.8.2 in /Users/eliasschablowski/Library/Python/3.9/lib/python/site-packages (from pandas) (2.9.0.post0)\n",
      "Requirement already satisfied: pytz>=2020.1 in /Users/eliasschablowski/Library/Python/3.9/lib/python/site-packages (from pandas) (2024.1)\n",
      "Requirement already satisfied: six>=1.5 in /Library/Developer/CommandLineTools/Library/Frameworks/Python3.framework/Versions/3.9/lib/python3.9/site-packages (from python-dateutil>=2.8.2->pandas) (1.15.0)\n",
      "\u001b[33mWARNING: You are using pip version 21.2.4; however, version 24.0 is available.\n",
      "You should consider upgrading via the '/Library/Developer/CommandLineTools/usr/bin/python3 -m pip install --upgrade pip' command.\u001b[0m\n",
      "Note: you may need to restart the kernel to use updated packages.\n"
     ]
    },
    {
     "name": "stderr",
     "output_type": "stream",
     "text": [
      "/var/folders/10/bt0fl75x481b_fmfx35syh6h0000gn/T/ipykernel_2411/3646406906.py:4: UserWarning: Could not infer format, so each element will be parsed individually, falling back to `dateutil`. To ensure parsing is consistent and as-expected, please specify a format.\n",
      "  o_r = pd.read_csv('Sleep_Efficiency.csv', index_col=0, parse_dates=True)\n",
      "/var/folders/10/bt0fl75x481b_fmfx35syh6h0000gn/T/ipykernel_2411/3646406906.py:5: UserWarning: Could not infer format, so each element will be parsed individually, falling back to `dateutil`. To ensure parsing is consistent and as-expected, please specify a format.\n",
      "  u_r = pd.read_csv('Sleep_Efficiency_Updated.csv', index_col=0, parse_dates=True)\n"
     ]
    }
   ],
   "source": [
    "%pip install pandas\n",
    "import pandas as pd\n",
    "\n",
    "o_r = pd.read_csv('Sleep_Efficiency.csv', index_col=0, parse_dates=True)\n",
    "u_r = pd.read_csv('Sleep_Efficiency_Updated.csv', index_col=0, parse_dates=True)\n"
   ]
  },
  {
   "cell_type": "code",
   "execution_count": 39,
   "metadata": {},
   "outputs": [
    {
     "data": {
      "text/html": [
       "<div>\n",
       "<style scoped>\n",
       "    .dataframe tbody tr th:only-of-type {\n",
       "        vertical-align: middle;\n",
       "    }\n",
       "\n",
       "    .dataframe tbody tr th {\n",
       "        vertical-align: top;\n",
       "    }\n",
       "\n",
       "    .dataframe thead tr th {\n",
       "        text-align: left;\n",
       "    }\n",
       "\n",
       "    .dataframe thead tr:last-of-type th {\n",
       "        text-align: right;\n",
       "    }\n",
       "</style>\n",
       "<table border=\"1\" class=\"dataframe\">\n",
       "  <thead>\n",
       "    <tr>\n",
       "      <th>ID</th>\n",
       "    </tr>\n",
       "  </thead>\n",
       "  <tbody>\n",
       "  </tbody>\n",
       "</table>\n",
       "</div>"
      ],
      "text/plain": [
       "Empty DataFrame\n",
       "Columns: []\n",
       "Index: []"
      ]
     },
     "execution_count": 39,
     "metadata": {},
     "output_type": "execute_result"
    }
   ],
   "source": [
    "u_r = u_r[0:max(o_r.index)] # Filter out the extra data in the updated file\n",
    "\n",
    "u_r[\"Bedtime\"] = pd.to_datetime(u_r[\"Bedtime\"], format=\"%d/%m/%Y %H:%M\").dt.strftime(\"%Y-%m-%d %H:%M:%S\")\n",
    "u_r[\"Wakeup time\"] = pd.to_datetime(u_r[\"Wakeup time\"], format=\"%d/%m/%Y %H:%M\").dt.strftime(\"%Y-%m-%d %H:%M:%S\")\n",
    "\n",
    "o_r[\"Bedtime\"] = pd.to_datetime(o_r[\"Bedtime\"], format=\"%Y-%m-%d %H:%M:%S\").dt.strftime(\"%Y-%m-%d %H:%M:%S\")\n",
    "o_r[\"Wakeup time\"] = pd.to_datetime(o_r[\"Wakeup time\"], format=\"%Y-%m-%d %H:%M:%S\").dt.strftime(\"%Y-%m-%d %H:%M:%S\")\n",
    "\n",
    "o_r.compare(u_r)\n"
   ]
  }
 ],
 "metadata": {
  "kernelspec": {
   "display_name": "Python 3",
   "language": "python",
   "name": "python3"
  },
  "language_info": {
   "codemirror_mode": {
    "name": "ipython",
    "version": 3
   },
   "file_extension": ".py",
   "mimetype": "text/x-python",
   "name": "python",
   "nbconvert_exporter": "python",
   "pygments_lexer": "ipython3",
   "version": "3.9.6"
  }
 },
 "nbformat": 4,
 "nbformat_minor": 2
}
